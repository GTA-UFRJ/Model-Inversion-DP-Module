{
 "cells": [
  {
   "cell_type": "code",
   "execution_count": 1,
   "metadata": {},
   "outputs": [
    {
     "name": "stdout",
     "output_type": "stream",
     "text": [
      "Mann-Whitney U statistic: 658.5000\n",
      "p-value: 0.0019\n",
      "Significant at 0.05? True\n"
     ]
    }
   ],
   "source": [
    "import pandas as pd\n",
    "import matplotlib.pyplot as plt\n",
    "\n",
    "# --- CONFIG -------------------------------------------------------------\n",
    "CSV_PATH = \"new_results_with_seed.csv\"     # ← change to your file name if different\n",
    "OUT_PNG  = \"Acurácia por Ruido.png\"\n",
    "# ------------------------------------------------------------------------\n",
    "\n",
    "# 1) Load the CSV\n",
    "df = pd.read_csv(CSV_PATH)\n",
    "\n",
    "# 2) Filter relevant rows\n",
    "mask = (df[\"Label\"] == 0) & \\\n",
    "       (df[\"Round\"] == 50) & \\\n",
    "       (df[\"Method\"] == \"loss\") & \\\n",
    "       (df[\"Noise Scale\"] < 0.11)\n",
    "subset = df.loc[mask, [\"Noise Scale\", \"Accuracy\"]].copy()\n",
    "\n",
    "# 3) Convert to numeric\n",
    "subset[\"Noise Scale\"] = pd.to_numeric(subset[\"Noise Scale\"], errors=\"coerce\")\n",
    "subset[\"Accuracy\"] = pd.to_numeric(subset[\"Accuracy\"], errors=\"coerce\")\n",
    "from scipy.stats import mannwhitneyu\n",
    "# 4) Normalize accuracy to [0, 1]\n",
    "subset[\"Accuracy\"] /= 100\n",
    "\n",
    "# Assumindo que você tem o DataFrame \"subset\"\n",
    "group1 = subset[subset[\"Noise Scale\"] == 0.0][\"Accuracy\"]\n",
    "group2 = subset[subset[\"Noise Scale\"] == 0.07][\"Accuracy\"]\n",
    "\n",
    "# Teste de Mann-Whitney\n",
    "stat, p_value = mannwhitneyu(group1, group2, alternative='two-sided')\n",
    "\n",
    "print(f\"Mann-Whitney U statistic: {stat:.4f}\")\n",
    "print(f\"p-value: {p_value:.4f}\")\n",
    "print(\"Significant at 0.05?\" , p_value < 0.05)"
   ]
  }
 ],
 "metadata": {
  "kernelspec": {
   "display_name": "Python 3",
   "language": "python",
   "name": "python3"
  },
  "language_info": {
   "codemirror_mode": {
    "name": "ipython",
    "version": 3
   },
   "file_extension": ".py",
   "mimetype": "text/x-python",
   "name": "python",
   "nbconvert_exporter": "python",
   "pygments_lexer": "ipython3",
   "version": "3.11.9"
  }
 },
 "nbformat": 4,
 "nbformat_minor": 2
}
